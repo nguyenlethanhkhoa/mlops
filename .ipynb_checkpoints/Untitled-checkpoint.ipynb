{
 "cells": [
  {
   "cell_type": "code",
   "execution_count": 77,
   "id": "00dbcb8a",
   "metadata": {},
   "outputs": [],
   "source": [
    "import pandas as pd\n",
    "import ast\n",
    "import json"
   ]
  },
  {
   "cell_type": "code",
   "execution_count": 78,
   "id": "5d99790b",
   "metadata": {},
   "outputs": [],
   "source": [
    "data = pd.read_parquet('/home/minh/hackathon/mlops/src/model_predictor/data/captured_data/phase-1/prob-1/123.parquet')"
   ]
  },
  {
   "cell_type": "code",
   "execution_count": 79,
   "id": "7d800e84",
   "metadata": {},
   "outputs": [
    {
     "data": {
      "text/html": [
       "<div>\n",
       "<style scoped>\n",
       "    .dataframe tbody tr th:only-of-type {\n",
       "        vertical-align: middle;\n",
       "    }\n",
       "\n",
       "    .dataframe tbody tr th {\n",
       "        vertical-align: top;\n",
       "    }\n",
       "\n",
       "    .dataframe thead th {\n",
       "        text-align: right;\n",
       "    }\n",
       "</style>\n",
       "<table border=\"1\" class=\"dataframe\">\n",
       "  <thead>\n",
       "    <tr style=\"text-align: right;\">\n",
       "      <th></th>\n",
       "      <th>feature1</th>\n",
       "      <th>feature2</th>\n",
       "      <th>feature3</th>\n",
       "      <th>feature4</th>\n",
       "      <th>feature5</th>\n",
       "      <th>feature6</th>\n",
       "      <th>feature7</th>\n",
       "      <th>feature8</th>\n",
       "      <th>feature9</th>\n",
       "      <th>feature10</th>\n",
       "      <th>feature11</th>\n",
       "      <th>feature12</th>\n",
       "      <th>feature13</th>\n",
       "      <th>feature14</th>\n",
       "      <th>feature15</th>\n",
       "      <th>feature16</th>\n",
       "    </tr>\n",
       "  </thead>\n",
       "  <tbody>\n",
       "    <tr>\n",
       "      <th>0</th>\n",
       "      <td>113</td>\n",
       "      <td>9</td>\n",
       "      <td>63.17</td>\n",
       "      <td>44420</td>\n",
       "      <td>43.080594</td>\n",
       "      <td>-82.530124</td>\n",
       "      <td>15429</td>\n",
       "      <td>40.282905</td>\n",
       "      <td>-80.067555</td>\n",
       "      <td>24.265892</td>\n",
       "      <td>20</td>\n",
       "      <td>0</td>\n",
       "      <td>5</td>\n",
       "      <td>0.899255</td>\n",
       "      <td>1.268010</td>\n",
       "      <td>72.877529</td>\n",
       "    </tr>\n",
       "    <tr>\n",
       "      <th>1</th>\n",
       "      <td>-1</td>\n",
       "      <td>5</td>\n",
       "      <td>6.70</td>\n",
       "      <td>84015</td>\n",
       "      <td>40.951731</td>\n",
       "      <td>-112.891381</td>\n",
       "      <td>62494</td>\n",
       "      <td>40.565544</td>\n",
       "      <td>-112.367142</td>\n",
       "      <td>19.104705</td>\n",
       "      <td>23</td>\n",
       "      <td>5</td>\n",
       "      <td>7</td>\n",
       "      <td>0.751891</td>\n",
       "      <td>1.391667</td>\n",
       "      <td>76.898485</td>\n",
       "    </tr>\n",
       "  </tbody>\n",
       "</table>\n",
       "</div>"
      ],
      "text/plain": [
       "   feature1  feature2  feature3  feature4   feature5    feature6  feature7  \\\n",
       "0       113         9     63.17     44420  43.080594  -82.530124     15429   \n",
       "1        -1         5      6.70     84015  40.951731 -112.891381     62494   \n",
       "\n",
       "    feature8    feature9  feature10  feature11  feature12  feature13  \\\n",
       "0  40.282905  -80.067555  24.265892         20          0          5   \n",
       "1  40.565544 -112.367142  19.104705         23          5          7   \n",
       "\n",
       "   feature14  feature15  feature16  \n",
       "0   0.899255   1.268010  72.877529  \n",
       "1   0.751891   1.391667  76.898485  "
      ]
     },
     "execution_count": 79,
     "metadata": {},
     "output_type": "execute_result"
    }
   ],
   "source": [
    "data.head()"
   ]
  },
  {
   "cell_type": "code",
   "execution_count": 118,
   "id": "cb05260d",
   "metadata": {},
   "outputs": [],
   "source": [
    "from tqdm import tqdm\n",
    "\n",
    "def build_category_features(data, categorical_cols=None):\n",
    "    if categorical_cols is None:\n",
    "        categorical_cols = []\n",
    "    category_index = {}\n",
    "    if len(categorical_cols) == 0:\n",
    "        return data, category_index\n",
    "\n",
    "    df = data.copy()\n",
    "    # process category features\n",
    "    for col in categorical_cols:\n",
    "        df[col] = df[col].astype(\"category\")\n",
    "        category_index[col] = df[col].cat.categories\n",
    "        df[col] = df[col].cat.codes\n",
    "    return df, category_index\n",
    "\n",
    "def from_log_data_to_dataframe(path) -> pd.DataFrame:\n",
    "    df = []\n",
    "    with open(path) as f:\n",
    "        data = f.readlines()\n",
    "    for sample in tqdm(data):\n",
    "        sample = json.loads(sample)\n",
    "        input_feature = sample['rows']\n",
    "        df.extend(input_feature)\n",
    "    df = pd.DataFrame(df)\n",
    "    mapper = {}\n",
    "    for i in range(len(capture_data_prob1.columns)):\n",
    "        mapper[i] = 'feature'+str(i+1)\n",
    "    df = df.rename(columns=mapper)\n",
    "    \n",
    "    \n",
    "    categorical_cols = [\n",
    "        \"feature2\",\n",
    "        \"feature1\"\n",
    "    ],\n",
    "    process_df, category_index = build_category_features(\n",
    "            df, categorical_cols\n",
    "        )\n",
    "    return df"
   ]
  },
  {
   "cell_type": "code",
   "execution_count": 119,
   "id": "e68dd276",
   "metadata": {},
   "outputs": [
    {
     "name": "stderr",
     "output_type": "stream",
     "text": [
      "100%|███████████████████████████████████████████████████████████████| 100/100 [00:00<00:00, 237.14it/s]\n"
     ]
    }
   ],
   "source": [
    "capture_data_prob1 = from_log_data_to_dataframe('log/model_1.log')"
   ]
  },
  {
   "cell_type": "code",
   "execution_count": 120,
   "id": "f5864e11",
   "metadata": {},
   "outputs": [],
   "source": [
    "capture_data_prob1.to_parquet('src/model_predictor/data/captured_data/phase-1/prob-1/submit.parquet')"
   ]
  },
  {
   "cell_type": "code",
   "execution_count": 121,
   "id": "073b2ad6",
   "metadata": {},
   "outputs": [
    {
     "data": {
      "text/plain": [
       "100627"
      ]
     },
     "execution_count": 121,
     "metadata": {},
     "output_type": "execute_result"
    }
   ],
   "source": [
    "len(capture_data_prob1)"
   ]
  },
  {
   "cell_type": "code",
   "execution_count": null,
   "id": "daa70df2",
   "metadata": {},
   "outputs": [],
   "source": []
  }
 ],
 "metadata": {
  "kernelspec": {
   "display_name": "Python 3 (ipykernel)",
   "language": "python",
   "name": "python3"
  },
  "language_info": {
   "codemirror_mode": {
    "name": "ipython",
    "version": 3
   },
   "file_extension": ".py",
   "mimetype": "text/x-python",
   "name": "python",
   "nbconvert_exporter": "python",
   "pygments_lexer": "ipython3",
   "version": "3.9.12"
  }
 },
 "nbformat": 4,
 "nbformat_minor": 5
}
